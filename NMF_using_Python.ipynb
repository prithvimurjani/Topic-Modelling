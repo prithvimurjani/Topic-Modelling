{
  "nbformat": 4,
  "nbformat_minor": 0,
  "metadata": {
    "colab": {
      "name": "NMF using Python.ipynb",
      "provenance": []
    },
    "kernelspec": {
      "name": "python3",
      "display_name": "Python 3"
    },
    "language_info": {
      "name": "python"
    }
  },
  "cells": [
    {
      "cell_type": "code",
      "metadata": {
        "colab": {
          "base_uri": "https://localhost:8080/",
          "height": 204
        },
        "id": "808GMk9B_yde",
        "outputId": "81ce1af1-e52b-4ff7-ac02-09dd44fa3920"
      },
      "source": [
        "import pandas as pd\n",
        "npr = pd.read_csv('npr.csv')\n",
        "npr.head()"
      ],
      "execution_count": 1,
      "outputs": [
        {
          "output_type": "execute_result",
          "data": {
            "text/html": [
              "<div>\n",
              "<style scoped>\n",
              "    .dataframe tbody tr th:only-of-type {\n",
              "        vertical-align: middle;\n",
              "    }\n",
              "\n",
              "    .dataframe tbody tr th {\n",
              "        vertical-align: top;\n",
              "    }\n",
              "\n",
              "    .dataframe thead th {\n",
              "        text-align: right;\n",
              "    }\n",
              "</style>\n",
              "<table border=\"1\" class=\"dataframe\">\n",
              "  <thead>\n",
              "    <tr style=\"text-align: right;\">\n",
              "      <th></th>\n",
              "      <th>Article</th>\n",
              "    </tr>\n",
              "  </thead>\n",
              "  <tbody>\n",
              "    <tr>\n",
              "      <th>0</th>\n",
              "      <td>In the Washington of 2016, even when the polic...</td>\n",
              "    </tr>\n",
              "    <tr>\n",
              "      <th>1</th>\n",
              "      <td>Donald Trump has used Twitter  —   his prefe...</td>\n",
              "    </tr>\n",
              "    <tr>\n",
              "      <th>2</th>\n",
              "      <td>Donald Trump is unabashedly praising Russian...</td>\n",
              "    </tr>\n",
              "    <tr>\n",
              "      <th>3</th>\n",
              "      <td>Updated at 2:50 p. m. ET, Russian President Vl...</td>\n",
              "    </tr>\n",
              "    <tr>\n",
              "      <th>4</th>\n",
              "      <td>From photography, illustration and video, to d...</td>\n",
              "    </tr>\n",
              "  </tbody>\n",
              "</table>\n",
              "</div>"
            ],
            "text/plain": [
              "                                             Article\n",
              "0  In the Washington of 2016, even when the polic...\n",
              "1    Donald Trump has used Twitter  —   his prefe...\n",
              "2    Donald Trump is unabashedly praising Russian...\n",
              "3  Updated at 2:50 p. m. ET, Russian President Vl...\n",
              "4  From photography, illustration and video, to d..."
            ]
          },
          "metadata": {},
          "execution_count": 1
        }
      ]
    },
    {
      "cell_type": "code",
      "metadata": {
        "colab": {
          "base_uri": "https://localhost:8080/"
        },
        "id": "WsXDZ5o1DGl6",
        "outputId": "f68cd149-a327-4803-a562-838a1a86a5b5"
      },
      "source": [
        "from sklearn.feature_extraction.text import TfidfVectorizer\n",
        "\n",
        "tfidf = TfidfVectorizer(max_df = 0.95, min_df = 2, stop_words = 'english')\n",
        "\n",
        "# Variable name used is dtm, but it generates tfidf vectors\n",
        "dtm = tfidf.fit_transform(npr['Article'])\n",
        "dtm"
      ],
      "execution_count": 2,
      "outputs": [
        {
          "output_type": "execute_result",
          "data": {
            "text/plain": [
              "<11992x54777 sparse matrix of type '<class 'numpy.float64'>'\n",
              "\twith 3033388 stored elements in Compressed Sparse Row format>"
            ]
          },
          "metadata": {},
          "execution_count": 2
        }
      ]
    },
    {
      "cell_type": "code",
      "metadata": {
        "colab": {
          "base_uri": "https://localhost:8080/"
        },
        "id": "Z8KAKsAEEPWm",
        "outputId": "a5f774aa-1f0c-453d-d506-1b67c7453ca7"
      },
      "source": [
        "from sklearn.decomposition import NMF\n",
        "\n",
        "nmf_model = NMF(n_components = 7, random_state = 42)\n",
        "nmf_model.fit(dtm)"
      ],
      "execution_count": 3,
      "outputs": [
        {
          "output_type": "execute_result",
          "data": {
            "text/plain": [
              "NMF(alpha=0.0, beta_loss='frobenius', init=None, l1_ratio=0.0, max_iter=200,\n",
              "    n_components=7, random_state=42, shuffle=False, solver='cd', tol=0.0001,\n",
              "    verbose=0)"
            ]
          },
          "metadata": {},
          "execution_count": 3
        }
      ]
    },
    {
      "cell_type": "code",
      "metadata": {
        "colab": {
          "base_uri": "https://localhost:8080/",
          "height": 35
        },
        "id": "BjBT2vFZEh1o",
        "outputId": "eee7b982-d9ac-4531-bc80-6431c1a96263"
      },
      "source": [
        "tfidf.get_feature_names()[25000]"
      ],
      "execution_count": 4,
      "outputs": [
        {
          "output_type": "execute_result",
          "data": {
            "application/vnd.google.colaboratory.intrinsic+json": {
              "type": "string"
            },
            "text/plain": [
              "'infiltrated'"
            ]
          },
          "metadata": {},
          "execution_count": 4
        }
      ]
    },
    {
      "cell_type": "code",
      "metadata": {
        "colab": {
          "base_uri": "https://localhost:8080/"
        },
        "id": "6r6jfTCGEtgu",
        "outputId": "cb4b6a1e-9ab4-47b3-d744-323be12ca477"
      },
      "source": [
        "# In LDA we deal with words with highest probability values for a topic\n",
        "# Here in NMF, we deal with words with highest coefficient values for a topic\n",
        "for index, topic in enumerate(nmf_model.components_):\n",
        "  print(f\"THE TOP 15 WORDS FOR TOPIC # {index}\")\n",
        "  print([tfidf.get_feature_names()[i] for i in topic.argsort()[-15:]])\n",
        "  print('\\n')\n",
        "  print('\\n')"
      ],
      "execution_count": 5,
      "outputs": [
        {
          "output_type": "stream",
          "name": "stdout",
          "text": [
            "THE TOP 15 WORDS FOR TOPIC # 0\n",
            "['new', 'research', 'like', 'patients', 'health', 'disease', 'percent', 'women', 'virus', 'study', 'water', 'food', 'people', 'zika', 'says']\n",
            "\n",
            "\n",
            "\n",
            "\n",
            "THE TOP 15 WORDS FOR TOPIC # 1\n",
            "['gop', 'pence', 'presidential', 'russia', 'administration', 'election', 'republican', 'obama', 'white', 'house', 'donald', 'campaign', 'said', 'president', 'trump']\n",
            "\n",
            "\n",
            "\n",
            "\n",
            "THE TOP 15 WORDS FOR TOPIC # 2\n",
            "['senate', 'house', 'people', 'act', 'law', 'tax', 'plan', 'republicans', 'affordable', 'obamacare', 'coverage', 'medicaid', 'insurance', 'care', 'health']\n",
            "\n",
            "\n",
            "\n",
            "\n",
            "THE TOP 15 WORDS FOR TOPIC # 3\n",
            "['officers', 'syria', 'security', 'department', 'law', 'isis', 'russia', 'government', 'state', 'attack', 'president', 'reports', 'court', 'said', 'police']\n",
            "\n",
            "\n",
            "\n",
            "\n",
            "THE TOP 15 WORDS FOR TOPIC # 4\n",
            "['primary', 'cruz', 'election', 'democrats', 'percent', 'party', 'delegates', 'vote', 'state', 'democratic', 'hillary', 'campaign', 'voters', 'sanders', 'clinton']\n",
            "\n",
            "\n",
            "\n",
            "\n",
            "THE TOP 15 WORDS FOR TOPIC # 5\n",
            "['love', 've', 'don', 'album', 'way', 'time', 'song', 'life', 'really', 'know', 'people', 'think', 'just', 'music', 'like']\n",
            "\n",
            "\n",
            "\n",
            "\n",
            "THE TOP 15 WORDS FOR TOPIC # 6\n",
            "['teacher', 'state', 'high', 'says', 'parents', 'devos', 'children', 'college', 'kids', 'teachers', 'student', 'education', 'schools', 'school', 'students']\n",
            "\n",
            "\n",
            "\n",
            "\n"
          ]
        }
      ]
    },
    {
      "cell_type": "code",
      "metadata": {
        "colab": {
          "base_uri": "https://localhost:8080/"
        },
        "id": "x-V7w99yFUEh",
        "outputId": "d1782843-a945-4be9-a80d-6919f8c1d4dc"
      },
      "source": [
        "topic_results = nmf_model.transform(dtm)\n",
        "topic_results[0]"
      ],
      "execution_count": 6,
      "outputs": [
        {
          "output_type": "execute_result",
          "data": {
            "text/plain": [
              "array([0.        , 0.12075603, 0.00140297, 0.05919954, 0.01518909,\n",
              "       0.        , 0.        ])"
            ]
          },
          "metadata": {},
          "execution_count": 6
        }
      ]
    },
    {
      "cell_type": "code",
      "metadata": {
        "colab": {
          "base_uri": "https://localhost:8080/"
        },
        "id": "7sSnH82NF-Ga",
        "outputId": "8023e764-1e27-464d-e997-ac3a4ae66e9c"
      },
      "source": [
        "topic_results[0].argmax()"
      ],
      "execution_count": 7,
      "outputs": [
        {
          "output_type": "execute_result",
          "data": {
            "text/plain": [
              "1"
            ]
          },
          "metadata": {},
          "execution_count": 7
        }
      ]
    },
    {
      "cell_type": "code",
      "metadata": {
        "colab": {
          "base_uri": "https://localhost:8080/",
          "height": 204
        },
        "id": "4J4HwAegGCYn",
        "outputId": "f7301e28-ff3f-4a71-8e8d-b9b98ce0da04"
      },
      "source": [
        "npr['Topic'] = topic_results.argmax(axis=1)\n",
        "npr.head()"
      ],
      "execution_count": 8,
      "outputs": [
        {
          "output_type": "execute_result",
          "data": {
            "text/html": [
              "<div>\n",
              "<style scoped>\n",
              "    .dataframe tbody tr th:only-of-type {\n",
              "        vertical-align: middle;\n",
              "    }\n",
              "\n",
              "    .dataframe tbody tr th {\n",
              "        vertical-align: top;\n",
              "    }\n",
              "\n",
              "    .dataframe thead th {\n",
              "        text-align: right;\n",
              "    }\n",
              "</style>\n",
              "<table border=\"1\" class=\"dataframe\">\n",
              "  <thead>\n",
              "    <tr style=\"text-align: right;\">\n",
              "      <th></th>\n",
              "      <th>Article</th>\n",
              "      <th>Topic</th>\n",
              "    </tr>\n",
              "  </thead>\n",
              "  <tbody>\n",
              "    <tr>\n",
              "      <th>0</th>\n",
              "      <td>In the Washington of 2016, even when the polic...</td>\n",
              "      <td>1</td>\n",
              "    </tr>\n",
              "    <tr>\n",
              "      <th>1</th>\n",
              "      <td>Donald Trump has used Twitter  —   his prefe...</td>\n",
              "      <td>1</td>\n",
              "    </tr>\n",
              "    <tr>\n",
              "      <th>2</th>\n",
              "      <td>Donald Trump is unabashedly praising Russian...</td>\n",
              "      <td>1</td>\n",
              "    </tr>\n",
              "    <tr>\n",
              "      <th>3</th>\n",
              "      <td>Updated at 2:50 p. m. ET, Russian President Vl...</td>\n",
              "      <td>3</td>\n",
              "    </tr>\n",
              "    <tr>\n",
              "      <th>4</th>\n",
              "      <td>From photography, illustration and video, to d...</td>\n",
              "      <td>6</td>\n",
              "    </tr>\n",
              "  </tbody>\n",
              "</table>\n",
              "</div>"
            ],
            "text/plain": [
              "                                             Article  Topic\n",
              "0  In the Washington of 2016, even when the polic...      1\n",
              "1    Donald Trump has used Twitter  —   his prefe...      1\n",
              "2    Donald Trump is unabashedly praising Russian...      1\n",
              "3  Updated at 2:50 p. m. ET, Russian President Vl...      3\n",
              "4  From photography, illustration and video, to d...      6"
            ]
          },
          "metadata": {},
          "execution_count": 8
        }
      ]
    },
    {
      "cell_type": "code",
      "metadata": {
        "colab": {
          "base_uri": "https://localhost:8080/",
          "height": 204
        },
        "id": "UmWoSJcxGLEA",
        "outputId": "e6ec6f1e-9a5d-4ca6-aa96-0b15924a25ff"
      },
      "source": [
        "topic_dict = {0 : 'Healthcare' , 1 : 'Election', 2 : 'Legislation', 3 : 'Current Affairs', 4 : 'Campaign', 5 : 'Music', 6 :'Education'}\n",
        "npr['Topic Label'] = npr['Topic'].map(topic_dict)\n",
        "npr.head()"
      ],
      "execution_count": 9,
      "outputs": [
        {
          "output_type": "execute_result",
          "data": {
            "text/html": [
              "<div>\n",
              "<style scoped>\n",
              "    .dataframe tbody tr th:only-of-type {\n",
              "        vertical-align: middle;\n",
              "    }\n",
              "\n",
              "    .dataframe tbody tr th {\n",
              "        vertical-align: top;\n",
              "    }\n",
              "\n",
              "    .dataframe thead th {\n",
              "        text-align: right;\n",
              "    }\n",
              "</style>\n",
              "<table border=\"1\" class=\"dataframe\">\n",
              "  <thead>\n",
              "    <tr style=\"text-align: right;\">\n",
              "      <th></th>\n",
              "      <th>Article</th>\n",
              "      <th>Topic</th>\n",
              "      <th>Topic Label</th>\n",
              "    </tr>\n",
              "  </thead>\n",
              "  <tbody>\n",
              "    <tr>\n",
              "      <th>0</th>\n",
              "      <td>In the Washington of 2016, even when the polic...</td>\n",
              "      <td>1</td>\n",
              "      <td>Election</td>\n",
              "    </tr>\n",
              "    <tr>\n",
              "      <th>1</th>\n",
              "      <td>Donald Trump has used Twitter  —   his prefe...</td>\n",
              "      <td>1</td>\n",
              "      <td>Election</td>\n",
              "    </tr>\n",
              "    <tr>\n",
              "      <th>2</th>\n",
              "      <td>Donald Trump is unabashedly praising Russian...</td>\n",
              "      <td>1</td>\n",
              "      <td>Election</td>\n",
              "    </tr>\n",
              "    <tr>\n",
              "      <th>3</th>\n",
              "      <td>Updated at 2:50 p. m. ET, Russian President Vl...</td>\n",
              "      <td>3</td>\n",
              "      <td>Current Affairs</td>\n",
              "    </tr>\n",
              "    <tr>\n",
              "      <th>4</th>\n",
              "      <td>From photography, illustration and video, to d...</td>\n",
              "      <td>6</td>\n",
              "      <td>Education</td>\n",
              "    </tr>\n",
              "  </tbody>\n",
              "</table>\n",
              "</div>"
            ],
            "text/plain": [
              "                                             Article  Topic      Topic Label\n",
              "0  In the Washington of 2016, even when the polic...      1         Election\n",
              "1    Donald Trump has used Twitter  —   his prefe...      1         Election\n",
              "2    Donald Trump is unabashedly praising Russian...      1         Election\n",
              "3  Updated at 2:50 p. m. ET, Russian President Vl...      3  Current Affairs\n",
              "4  From photography, illustration and video, to d...      6        Education"
            ]
          },
          "metadata": {},
          "execution_count": 9
        }
      ]
    }
  ]
}